{
  "nbformat": 4,
  "nbformat_minor": 0,
  "metadata": {
    "colab": {
      "provenance": []
    },
    "kernelspec": {
      "name": "python3",
      "display_name": "Python 3"
    },
    "language_info": {
      "name": "python"
    }
  },
  "cells": [
    {
      "cell_type": "code",
      "execution_count": null,
      "metadata": {
        "id": "3PS9lshEBnfg"
      },
      "outputs": [],
      "source": [
        "import pandas as pd\n",
        "\n",
        "# Read the first CSV file into a DataFrame\n",
        "df1 = pd.read_csv('/content/merged_Oneplus.csv')\n",
        "\n",
        "# Read the second CSV file into another DataFrame\n",
        "df2 = pd.read_csv('/content/merged_Realme narzo.csv')\n",
        "# Read the second CSV file into another DataFrame\n",
        "df3 = pd.read_csv('/content/merged_Redmi Note 11.csv')\n",
        "df4 = pd.read_csv('/content/merged_Redmi10.csv')\n",
        "df5 = pd.read_csv('/content/merged_Redmi9.csv')\n",
        "df6 = pd.read_csv('/content/merged_samsung.csv')\n",
        "df7 = pd.read_csv('/content/merged_vivo.csv')\n",
        "df8 = pd.read_csv('/content/oppo_merged_file.csv')\n",
        "# Merge the two DataFrames vertically\n",
        "merged_df = pd.concat([df1,df2,df3,df4,df5,df6,df7,df8], axis=0)\n",
        "\n",
        "# Write the merged DataFrame to a new CSV file if needed\n",
        "merged_df.to_csv('merged_data.csv', index=False)\n"
      ]
    },
    {
      "cell_type": "code",
      "source": [
        "import pandas as pd\n",
        "merged_df=pd.read_csv('/content/merged_data.csv')\n",
        "df3=merged_df.copy()\n",
        "df3"
      ],
      "metadata": {
        "colab": {
          "base_uri": "https://localhost:8080/",
          "height": 424
        },
        "id": "KcS__FlFCFA_",
        "outputId": "12f2f6b3-f62a-4e53-e839-8d036e5250a3"
      },
      "execution_count": null,
      "outputs": [
        {
          "output_type": "execute_result",
          "data": {
            "text/plain": [
              "                                           Product Name  \\\n",
              "0     OnePlus Nord CE 2 5G (Gray Mirror, 8GB RAM, 12...   \n",
              "1     OnePlus Nord CE 2 5G (Gray Mirror, 8GB RAM, 12...   \n",
              "2     OnePlus Nord CE 2 5G (Gray Mirror, 8GB RAM, 12...   \n",
              "3     OnePlus Nord CE 2 5G (Gray Mirror, 8GB RAM, 12...   \n",
              "4     OnePlus Nord CE 2 5G (Gray Mirror, 8GB RAM, 12...   \n",
              "...                                                 ...   \n",
              "8482   OPPO A31 (Mystery Black, 6GB RAM, 128GB Storage)   \n",
              "8483   OPPO A31 (Mystery Black, 6GB RAM, 128GB Storage)   \n",
              "8484   OPPO A31 (Mystery Black, 6GB RAM, 128GB Storage)   \n",
              "8485   OPPO A31 (Mystery Black, 6GB RAM, 128GB Storage)   \n",
              "8486   OPPO A31 (Mystery Black, 6GB RAM, 128GB Storage)   \n",
              "\n",
              "                                         Cleaned_Review  rating  Sentiment  \\\n",
              "0     awesome phone cameradisplaytouchselfi canperfo...     5.0          1   \n",
              "1     mid ranger flagship get mobile awesome deal ra...     5.0          1   \n",
              "2     average phone keep average expectations write ...     3.0          1   \n",
              "3     good choice upgrade nord ce decent choice some...     5.0          1   \n",
              "4     decent package non gamers everything thing dec...     4.0          1   \n",
              "...                                                 ...     ...        ...   \n",
              "8482  think old refurbish phone give screen not work...     1.0          0   \n",
              "8483  not anything dislike display always go blanke ...     2.0          0   \n",
              "8484  opo display quality problem not satisfy not sa...     2.0          0   \n",
              "8485  handset not find handset miss packageso sad bo...     5.0          1   \n",
              "8486  latest software update not available model lat...     3.0          1   \n",
              "\n",
              "      text_length Predicted Label  \n",
              "0           388.0     performance  \n",
              "1           289.0          camera  \n",
              "2           287.0     performance  \n",
              "3           284.0         display  \n",
              "4           278.0         display  \n",
              "...           ...             ...  \n",
              "8482         11.0         display  \n",
              "8483         11.0         display  \n",
              "8484         11.0         display  \n",
              "8485         11.0         display  \n",
              "8486         11.0         display  \n",
              "\n",
              "[8487 rows x 6 columns]"
            ],
            "text/html": [
              "\n",
              "  <div id=\"df-a4b02f91-703b-4c2b-81cb-33a6698c6a8f\" class=\"colab-df-container\">\n",
              "    <div>\n",
              "<style scoped>\n",
              "    .dataframe tbody tr th:only-of-type {\n",
              "        vertical-align: middle;\n",
              "    }\n",
              "\n",
              "    .dataframe tbody tr th {\n",
              "        vertical-align: top;\n",
              "    }\n",
              "\n",
              "    .dataframe thead th {\n",
              "        text-align: right;\n",
              "    }\n",
              "</style>\n",
              "<table border=\"1\" class=\"dataframe\">\n",
              "  <thead>\n",
              "    <tr style=\"text-align: right;\">\n",
              "      <th></th>\n",
              "      <th>Product Name</th>\n",
              "      <th>Cleaned_Review</th>\n",
              "      <th>rating</th>\n",
              "      <th>Sentiment</th>\n",
              "      <th>text_length</th>\n",
              "      <th>Predicted Label</th>\n",
              "    </tr>\n",
              "  </thead>\n",
              "  <tbody>\n",
              "    <tr>\n",
              "      <th>0</th>\n",
              "      <td>OnePlus Nord CE 2 5G (Gray Mirror, 8GB RAM, 12...</td>\n",
              "      <td>awesome phone cameradisplaytouchselfi canperfo...</td>\n",
              "      <td>5.0</td>\n",
              "      <td>1</td>\n",
              "      <td>388.0</td>\n",
              "      <td>performance</td>\n",
              "    </tr>\n",
              "    <tr>\n",
              "      <th>1</th>\n",
              "      <td>OnePlus Nord CE 2 5G (Gray Mirror, 8GB RAM, 12...</td>\n",
              "      <td>mid ranger flagship get mobile awesome deal ra...</td>\n",
              "      <td>5.0</td>\n",
              "      <td>1</td>\n",
              "      <td>289.0</td>\n",
              "      <td>camera</td>\n",
              "    </tr>\n",
              "    <tr>\n",
              "      <th>2</th>\n",
              "      <td>OnePlus Nord CE 2 5G (Gray Mirror, 8GB RAM, 12...</td>\n",
              "      <td>average phone keep average expectations write ...</td>\n",
              "      <td>3.0</td>\n",
              "      <td>1</td>\n",
              "      <td>287.0</td>\n",
              "      <td>performance</td>\n",
              "    </tr>\n",
              "    <tr>\n",
              "      <th>3</th>\n",
              "      <td>OnePlus Nord CE 2 5G (Gray Mirror, 8GB RAM, 12...</td>\n",
              "      <td>good choice upgrade nord ce decent choice some...</td>\n",
              "      <td>5.0</td>\n",
              "      <td>1</td>\n",
              "      <td>284.0</td>\n",
              "      <td>display</td>\n",
              "    </tr>\n",
              "    <tr>\n",
              "      <th>4</th>\n",
              "      <td>OnePlus Nord CE 2 5G (Gray Mirror, 8GB RAM, 12...</td>\n",
              "      <td>decent package non gamers everything thing dec...</td>\n",
              "      <td>4.0</td>\n",
              "      <td>1</td>\n",
              "      <td>278.0</td>\n",
              "      <td>display</td>\n",
              "    </tr>\n",
              "    <tr>\n",
              "      <th>...</th>\n",
              "      <td>...</td>\n",
              "      <td>...</td>\n",
              "      <td>...</td>\n",
              "      <td>...</td>\n",
              "      <td>...</td>\n",
              "      <td>...</td>\n",
              "    </tr>\n",
              "    <tr>\n",
              "      <th>8482</th>\n",
              "      <td>OPPO A31 (Mystery Black, 6GB RAM, 128GB Storage)</td>\n",
              "      <td>think old refurbish phone give screen not work...</td>\n",
              "      <td>1.0</td>\n",
              "      <td>0</td>\n",
              "      <td>11.0</td>\n",
              "      <td>display</td>\n",
              "    </tr>\n",
              "    <tr>\n",
              "      <th>8483</th>\n",
              "      <td>OPPO A31 (Mystery Black, 6GB RAM, 128GB Storage)</td>\n",
              "      <td>not anything dislike display always go blanke ...</td>\n",
              "      <td>2.0</td>\n",
              "      <td>0</td>\n",
              "      <td>11.0</td>\n",
              "      <td>display</td>\n",
              "    </tr>\n",
              "    <tr>\n",
              "      <th>8484</th>\n",
              "      <td>OPPO A31 (Mystery Black, 6GB RAM, 128GB Storage)</td>\n",
              "      <td>opo display quality problem not satisfy not sa...</td>\n",
              "      <td>2.0</td>\n",
              "      <td>0</td>\n",
              "      <td>11.0</td>\n",
              "      <td>display</td>\n",
              "    </tr>\n",
              "    <tr>\n",
              "      <th>8485</th>\n",
              "      <td>OPPO A31 (Mystery Black, 6GB RAM, 128GB Storage)</td>\n",
              "      <td>handset not find handset miss packageso sad bo...</td>\n",
              "      <td>5.0</td>\n",
              "      <td>1</td>\n",
              "      <td>11.0</td>\n",
              "      <td>display</td>\n",
              "    </tr>\n",
              "    <tr>\n",
              "      <th>8486</th>\n",
              "      <td>OPPO A31 (Mystery Black, 6GB RAM, 128GB Storage)</td>\n",
              "      <td>latest software update not available model lat...</td>\n",
              "      <td>3.0</td>\n",
              "      <td>1</td>\n",
              "      <td>11.0</td>\n",
              "      <td>display</td>\n",
              "    </tr>\n",
              "  </tbody>\n",
              "</table>\n",
              "<p>8487 rows × 6 columns</p>\n",
              "</div>\n",
              "    <div class=\"colab-df-buttons\">\n",
              "\n",
              "  <div class=\"colab-df-container\">\n",
              "    <button class=\"colab-df-convert\" onclick=\"convertToInteractive('df-a4b02f91-703b-4c2b-81cb-33a6698c6a8f')\"\n",
              "            title=\"Convert this dataframe to an interactive table.\"\n",
              "            style=\"display:none;\">\n",
              "\n",
              "  <svg xmlns=\"http://www.w3.org/2000/svg\" height=\"24px\" viewBox=\"0 -960 960 960\">\n",
              "    <path d=\"M120-120v-720h720v720H120Zm60-500h600v-160H180v160Zm220 220h160v-160H400v160Zm0 220h160v-160H400v160ZM180-400h160v-160H180v160Zm440 0h160v-160H620v160ZM180-180h160v-160H180v160Zm440 0h160v-160H620v160Z\"/>\n",
              "  </svg>\n",
              "    </button>\n",
              "\n",
              "  <style>\n",
              "    .colab-df-container {\n",
              "      display:flex;\n",
              "      gap: 12px;\n",
              "    }\n",
              "\n",
              "    .colab-df-convert {\n",
              "      background-color: #E8F0FE;\n",
              "      border: none;\n",
              "      border-radius: 50%;\n",
              "      cursor: pointer;\n",
              "      display: none;\n",
              "      fill: #1967D2;\n",
              "      height: 32px;\n",
              "      padding: 0 0 0 0;\n",
              "      width: 32px;\n",
              "    }\n",
              "\n",
              "    .colab-df-convert:hover {\n",
              "      background-color: #E2EBFA;\n",
              "      box-shadow: 0px 1px 2px rgba(60, 64, 67, 0.3), 0px 1px 3px 1px rgba(60, 64, 67, 0.15);\n",
              "      fill: #174EA6;\n",
              "    }\n",
              "\n",
              "    .colab-df-buttons div {\n",
              "      margin-bottom: 4px;\n",
              "    }\n",
              "\n",
              "    [theme=dark] .colab-df-convert {\n",
              "      background-color: #3B4455;\n",
              "      fill: #D2E3FC;\n",
              "    }\n",
              "\n",
              "    [theme=dark] .colab-df-convert:hover {\n",
              "      background-color: #434B5C;\n",
              "      box-shadow: 0px 1px 3px 1px rgba(0, 0, 0, 0.15);\n",
              "      filter: drop-shadow(0px 1px 2px rgba(0, 0, 0, 0.3));\n",
              "      fill: #FFFFFF;\n",
              "    }\n",
              "  </style>\n",
              "\n",
              "    <script>\n",
              "      const buttonEl =\n",
              "        document.querySelector('#df-a4b02f91-703b-4c2b-81cb-33a6698c6a8f button.colab-df-convert');\n",
              "      buttonEl.style.display =\n",
              "        google.colab.kernel.accessAllowed ? 'block' : 'none';\n",
              "\n",
              "      async function convertToInteractive(key) {\n",
              "        const element = document.querySelector('#df-a4b02f91-703b-4c2b-81cb-33a6698c6a8f');\n",
              "        const dataTable =\n",
              "          await google.colab.kernel.invokeFunction('convertToInteractive',\n",
              "                                                    [key], {});\n",
              "        if (!dataTable) return;\n",
              "\n",
              "        const docLinkHtml = 'Like what you see? Visit the ' +\n",
              "          '<a target=\"_blank\" href=https://colab.research.google.com/notebooks/data_table.ipynb>data table notebook</a>'\n",
              "          + ' to learn more about interactive tables.';\n",
              "        element.innerHTML = '';\n",
              "        dataTable['output_type'] = 'display_data';\n",
              "        await google.colab.output.renderOutput(dataTable, element);\n",
              "        const docLink = document.createElement('div');\n",
              "        docLink.innerHTML = docLinkHtml;\n",
              "        element.appendChild(docLink);\n",
              "      }\n",
              "    </script>\n",
              "  </div>\n",
              "\n",
              "\n",
              "<div id=\"df-84bf31da-36fc-48e3-a3d8-16acf3e7446f\">\n",
              "  <button class=\"colab-df-quickchart\" onclick=\"quickchart('df-84bf31da-36fc-48e3-a3d8-16acf3e7446f')\"\n",
              "            title=\"Suggest charts\"\n",
              "            style=\"display:none;\">\n",
              "\n",
              "<svg xmlns=\"http://www.w3.org/2000/svg\" height=\"24px\"viewBox=\"0 0 24 24\"\n",
              "     width=\"24px\">\n",
              "    <g>\n",
              "        <path d=\"M19 3H5c-1.1 0-2 .9-2 2v14c0 1.1.9 2 2 2h14c1.1 0 2-.9 2-2V5c0-1.1-.9-2-2-2zM9 17H7v-7h2v7zm4 0h-2V7h2v10zm4 0h-2v-4h2v4z\"/>\n",
              "    </g>\n",
              "</svg>\n",
              "  </button>\n",
              "\n",
              "<style>\n",
              "  .colab-df-quickchart {\n",
              "      --bg-color: #E8F0FE;\n",
              "      --fill-color: #1967D2;\n",
              "      --hover-bg-color: #E2EBFA;\n",
              "      --hover-fill-color: #174EA6;\n",
              "      --disabled-fill-color: #AAA;\n",
              "      --disabled-bg-color: #DDD;\n",
              "  }\n",
              "\n",
              "  [theme=dark] .colab-df-quickchart {\n",
              "      --bg-color: #3B4455;\n",
              "      --fill-color: #D2E3FC;\n",
              "      --hover-bg-color: #434B5C;\n",
              "      --hover-fill-color: #FFFFFF;\n",
              "      --disabled-bg-color: #3B4455;\n",
              "      --disabled-fill-color: #666;\n",
              "  }\n",
              "\n",
              "  .colab-df-quickchart {\n",
              "    background-color: var(--bg-color);\n",
              "    border: none;\n",
              "    border-radius: 50%;\n",
              "    cursor: pointer;\n",
              "    display: none;\n",
              "    fill: var(--fill-color);\n",
              "    height: 32px;\n",
              "    padding: 0;\n",
              "    width: 32px;\n",
              "  }\n",
              "\n",
              "  .colab-df-quickchart:hover {\n",
              "    background-color: var(--hover-bg-color);\n",
              "    box-shadow: 0 1px 2px rgba(60, 64, 67, 0.3), 0 1px 3px 1px rgba(60, 64, 67, 0.15);\n",
              "    fill: var(--button-hover-fill-color);\n",
              "  }\n",
              "\n",
              "  .colab-df-quickchart-complete:disabled,\n",
              "  .colab-df-quickchart-complete:disabled:hover {\n",
              "    background-color: var(--disabled-bg-color);\n",
              "    fill: var(--disabled-fill-color);\n",
              "    box-shadow: none;\n",
              "  }\n",
              "\n",
              "  .colab-df-spinner {\n",
              "    border: 2px solid var(--fill-color);\n",
              "    border-color: transparent;\n",
              "    border-bottom-color: var(--fill-color);\n",
              "    animation:\n",
              "      spin 1s steps(1) infinite;\n",
              "  }\n",
              "\n",
              "  @keyframes spin {\n",
              "    0% {\n",
              "      border-color: transparent;\n",
              "      border-bottom-color: var(--fill-color);\n",
              "      border-left-color: var(--fill-color);\n",
              "    }\n",
              "    20% {\n",
              "      border-color: transparent;\n",
              "      border-left-color: var(--fill-color);\n",
              "      border-top-color: var(--fill-color);\n",
              "    }\n",
              "    30% {\n",
              "      border-color: transparent;\n",
              "      border-left-color: var(--fill-color);\n",
              "      border-top-color: var(--fill-color);\n",
              "      border-right-color: var(--fill-color);\n",
              "    }\n",
              "    40% {\n",
              "      border-color: transparent;\n",
              "      border-right-color: var(--fill-color);\n",
              "      border-top-color: var(--fill-color);\n",
              "    }\n",
              "    60% {\n",
              "      border-color: transparent;\n",
              "      border-right-color: var(--fill-color);\n",
              "    }\n",
              "    80% {\n",
              "      border-color: transparent;\n",
              "      border-right-color: var(--fill-color);\n",
              "      border-bottom-color: var(--fill-color);\n",
              "    }\n",
              "    90% {\n",
              "      border-color: transparent;\n",
              "      border-bottom-color: var(--fill-color);\n",
              "    }\n",
              "  }\n",
              "</style>\n",
              "\n",
              "  <script>\n",
              "    async function quickchart(key) {\n",
              "      const quickchartButtonEl =\n",
              "        document.querySelector('#' + key + ' button');\n",
              "      quickchartButtonEl.disabled = true;  // To prevent multiple clicks.\n",
              "      quickchartButtonEl.classList.add('colab-df-spinner');\n",
              "      try {\n",
              "        const charts = await google.colab.kernel.invokeFunction(\n",
              "            'suggestCharts', [key], {});\n",
              "      } catch (error) {\n",
              "        console.error('Error during call to suggestCharts:', error);\n",
              "      }\n",
              "      quickchartButtonEl.classList.remove('colab-df-spinner');\n",
              "      quickchartButtonEl.classList.add('colab-df-quickchart-complete');\n",
              "    }\n",
              "    (() => {\n",
              "      let quickchartButtonEl =\n",
              "        document.querySelector('#df-84bf31da-36fc-48e3-a3d8-16acf3e7446f button');\n",
              "      quickchartButtonEl.style.display =\n",
              "        google.colab.kernel.accessAllowed ? 'block' : 'none';\n",
              "    })();\n",
              "  </script>\n",
              "</div>\n",
              "    </div>\n",
              "  </div>\n"
            ]
          },
          "metadata": {},
          "execution_count": 1
        }
      ]
    },
    {
      "cell_type": "code",
      "source": [
        "df3.info()"
      ],
      "metadata": {
        "colab": {
          "base_uri": "https://localhost:8080/"
        },
        "id": "UwfdBheO4UaG",
        "outputId": "1022fa1c-7e04-4c1c-b75b-feaee19c6a00"
      },
      "execution_count": null,
      "outputs": [
        {
          "output_type": "stream",
          "name": "stdout",
          "text": [
            "<class 'pandas.core.frame.DataFrame'>\n",
            "RangeIndex: 8487 entries, 0 to 8486\n",
            "Data columns (total 6 columns):\n",
            " #   Column           Non-Null Count  Dtype  \n",
            "---  ------           --------------  -----  \n",
            " 0   Product Name     8487 non-null   object \n",
            " 1   Cleaned_Review   8487 non-null   object \n",
            " 2   rating           8487 non-null   float64\n",
            " 3   Sentiment        8487 non-null   int64  \n",
            " 4   text_length      8487 non-null   float64\n",
            " 5   Predicted Label  8487 non-null   object \n",
            "dtypes: float64(2), int64(1), object(3)\n",
            "memory usage: 398.0+ KB\n"
          ]
        }
      ]
    },
    {
      "cell_type": "code",
      "source": [
        "import pandas as pd\n",
        "from sklearn.model_selection import train_test_split\n",
        "from sklearn.feature_extraction.text import TfidfVectorizer\n",
        "from sklearn.naive_bayes import MultinomialNB\n",
        "from sklearn.metrics import accuracy_score, mean_squared_error\n",
        "from textblob import TextBlob\n",
        "\n",
        "# Split the data into training and testing sets\n",
        "X = df3['Cleaned_Review']  # Text data\n",
        "y_sentiment = df3['Sentiment']  # Positive or Negative labels\n",
        "y_rating = df3['rating']  # Numeric ratings\n",
        "\n",
        "X_train, X_test, y_sentiment_train, y_sentiment_test, y_rating_train, y_rating_test = train_test_split(X, y_sentiment, y_rating, test_size=0.2, random_state=42)\n",
        "\n",
        "# Create TF-IDF vectors from the text data\n",
        "tfidf_vectorizer = TfidfVectorizer(max_features=1000)\n",
        "X_train_tfidf = tfidf_vectorizer.fit_transform(X_train)\n",
        "X_test_tfidf = tfidf_vectorizer.transform(X_test)\n",
        "\n",
        "# Train a sentiment analysis model (e.g., Multinomial Naive Bayes)\n",
        "sentiment_classifier = MultinomialNB()\n",
        "sentiment_classifier.fit(X_train_tfidf,y_sentiment_train)\n",
        "\n",
        "# Predict sentiment on the test set\n",
        "y_sentiment_pred = sentiment_classifier.predict(X_test_tfidf)\n",
        "\n",
        "# Evaluate the sentiment analysis model\n",
        "sentiment_accuracy = accuracy_score(y_sentiment_test, y_sentiment_pred)\n",
        "\n",
        "# Calculate sentiment scores using TextBlob for the entire dataset\n",
        "df3['textblob_sentiment'] = df3['Cleaned_Review'].apply(lambda x: TextBlob(x).sentiment.polarity)\n",
        "\n",
        "# Normalize TextBlob sentiment scores to the [0, 1] scale\n",
        "df3['normalized_sentiment'] = (df3['textblob_sentiment'] + 1) / 2\n",
        "\n",
        "# Combine the model's predicted sentiment with TextBlob sentiment scores\n",
        "df3['combined_sentiment'] = (df3['normalized_sentiment'] + (y_sentiment == 'positive').astype(int)) / 2\n",
        "\n",
        "# Calculate the overall rating score on a scale of 5\n",
        "df3['overall_rating'] = 5 *df3['combined_sentiment']\n",
        "\n",
        "# Calculate the Mean Squared Error (MSE) for the ratings\n",
        "rating_mse = mean_squared_error(y_rating_test,df3.loc[y_rating_test.index, 'overall_rating'])\n",
        "\n",
        "# Print results\n",
        "print(f'Sentiment Analysis Accuracy: {sentiment_accuracy}')\n",
        "print(f'Mean Squared Error for Ratings: {rating_mse}')\n"
      ],
      "metadata": {
        "colab": {
          "base_uri": "https://localhost:8080/"
        },
        "id": "nP-tz41ShLI_",
        "outputId": "fe6d6220-072e-49e3-9a55-d2204f1f082a"
      },
      "execution_count": null,
      "outputs": [
        {
          "output_type": "stream",
          "name": "stdout",
          "text": [
            "Sentiment Analysis Accuracy: 0.8392226148409894\n",
            "Mean Squared Error for Ratings: 4.222229951842408\n"
          ]
        }
      ]
    },
    {
      "cell_type": "code",
      "source": [
        "# Count the number of positive (1) and negative (0) reviews\n",
        "num_positive_reviews = (y_sentiment_pred == 1).sum()\n",
        "num_negative_reviews = (y_sentiment_pred == 0).sum()\n",
        "\n",
        "# Calculate the total number of reviews\n",
        "total_reviews = len(y_sentiment_pred)\n",
        "\n",
        "# Calculate the percentage of positive and negative reviews\n",
        "percentage_positive = (num_positive_reviews / total_reviews) * 100\n",
        "percentage_negative = (num_negative_reviews / total_reviews) * 100\n",
        "\n",
        "print(f'Percentage of Positive Reviews: {percentage_positive}%')\n",
        "print(f'Percentage of Negative Reviews: {percentage_negative}%')"
      ],
      "metadata": {
        "colab": {
          "base_uri": "https://localhost:8080/"
        },
        "id": "0dNF4Z7qC3PY",
        "outputId": "ae35d632-e536-4c75-fc63-6cd8b07a6741"
      },
      "execution_count": null,
      "outputs": [
        {
          "output_type": "stream",
          "name": "stdout",
          "text": [
            "Percentage of Positive Reviews: 60.30624263839811%\n",
            "Percentage of Negative Reviews: 39.69375736160188%\n"
          ]
        }
      ]
    },
    {
      "cell_type": "code",
      "source": [
        "# Calculate the rating out of 5\n",
        "rating_out_of_5 = (percentage_positive / 100) * 5\n",
        "\n",
        "# You can choose to use the negative percentage to adjust the rating\n",
        "# For example, if negative reviews should reduce the rating:\n",
        "# rating_out_of_5 -= (percentage_negative / 100) * 5\n",
        "\n",
        "# Round the rating to the nearest decimal place, if desired\n",
        "rounded_rating = round(rating_out_of_5, 1)\n",
        "\n",
        "# Print the rating\n",
        "print(f'Rating out of 5: {rounded_rating}')"
      ],
      "metadata": {
        "colab": {
          "base_uri": "https://localhost:8080/"
        },
        "id": "2NBziuJlC5xH",
        "outputId": "1600f75d-cba1-4c99-9c03-936417ab1fae"
      },
      "execution_count": null,
      "outputs": [
        {
          "output_type": "stream",
          "name": "stdout",
          "text": [
            "Rating out of 5: 3.0\n"
          ]
        }
      ]
    },
    {
      "cell_type": "code",
      "source": [
        "# Define the unique values in the \"Predicted Label\" column\n",
        "unique_labels = df3['Predicted Label'].unique()\n",
        "\n",
        "# Create dictionaries to store sentiment counts for each label\n",
        "label_sentiments = {}\n",
        "\n",
        "# Iterate through each unique label\n",
        "for label in unique_labels:\n",
        "    # Filter the DataFrame for rows where the \"Predicted Label\" matches the current label\n",
        "    filtered_df = df3[df3['Predicted Label'] == label]\n",
        "\n",
        "    # Count positive and negative sentiments in the filtered data\n",
        "    num_positive_sentiments = (filtered_df['Sentiment'] == 1).sum()\n",
        "    num_negative_sentiments = (filtered_df['Sentiment'] == 0).sum()\n",
        "\n",
        "    # Store the sentiment counts in the dictionary\n",
        "    label_sentiments[label] = {\n",
        "        1: num_positive_sentiments,\n",
        "        0: num_negative_sentiments\n",
        "    }\n",
        "\n",
        "# Print the results\n",
        "for label in unique_labels:\n",
        "    print(f'Label: {label}')\n",
        "    print(f'Positive Sentiments: {label_sentiments[label][1]}')\n",
        "    print(f'Negative Sentiments: {label_sentiments[label][0]}')\n",
        "    print()\n"
      ],
      "metadata": {
        "colab": {
          "base_uri": "https://localhost:8080/"
        },
        "id": "Ib1AB7VfC-Fe",
        "outputId": "bcd145d7-c382-4ddd-f42d-c418b3147f6d"
      },
      "execution_count": null,
      "outputs": [
        {
          "output_type": "stream",
          "name": "stdout",
          "text": [
            "Label: performance\n",
            "Positive Sentiments: 599\n",
            "Negative Sentiments: 857\n",
            "\n",
            "Label: camera\n",
            "Positive Sentiments: 1292\n",
            "Negative Sentiments: 1142\n",
            "\n",
            "Label: display\n",
            "Positive Sentiments: 673\n",
            "Negative Sentiments: 1165\n",
            "\n",
            "Label: value for money\n",
            "Positive Sentiments: 1931\n",
            "Negative Sentiments: 140\n",
            "\n",
            "Label: battery\n",
            "Positive Sentiments: 375\n",
            "Negative Sentiments: 313\n",
            "\n"
          ]
        }
      ]
    },
    {
      "cell_type": "code",
      "source": [
        "import pandas as pd\n",
        "\n",
        "# Load your DataFrame (assuming you have already loaded your data)\n",
        "#df2 = pd.read_csv('/content/classification_results.csv')\n",
        "\n",
        "# Define the unique values in the \"Predicted Label\" column\n",
        "unique_labels = df3['Predicted Label'].unique()\n",
        "\n",
        "# Create dictionaries to store sentiment percentages for each label\n",
        "label_sentiments = {}\n",
        "\n",
        "# Iterate through each unique label\n",
        "for label in unique_labels:\n",
        "    # Filter the DataFrame for rows where the \"Predicted Label\" matches the current label\n",
        "    filtered_df = df3[df3['Predicted Label'] == label]\n",
        "\n",
        "    # Count positive and negative sentiments in the filtered data\n",
        "    num_positive_sentiments = (filtered_df['Sentiment'] == 1).sum()\n",
        "    num_negative_sentiments = (filtered_df['Sentiment'] == 0).sum()\n",
        "\n",
        "    total_sentiments = len(filtered_df)\n",
        "\n",
        "    # Calculate the percentages\n",
        "    if total_sentiments > 0:\n",
        "        positive_percentage = (num_positive_sentiments / total_sentiments) * 100\n",
        "        negative_percentage = (num_negative_sentiments / total_sentiments) * 100\n",
        "    else:\n",
        "        positive_percentage = 0\n",
        "        negative_percentage = 0\n",
        "\n",
        "    # Store the sentiment percentages in the dictionary\n",
        "    label_sentiments[label] = {\n",
        "        'Positive Percentage': positive_percentage,\n",
        "        'Negative Percentage': negative_percentage\n",
        "    }\n",
        "\n",
        "# Print the results\n",
        "for label in unique_labels:\n",
        "    print(f'Label: {label}')\n",
        "    print(f'Positive Percentage: {label_sentiments[label][\"Positive Percentage\"]:.2f}%')\n",
        "    print(f'Negative Percentage: {label_sentiments[label][\"Negative Percentage\"]:.2f}%')\n",
        "    print()\n"
      ],
      "metadata": {
        "colab": {
          "base_uri": "https://localhost:8080/"
        },
        "id": "Eabib3KbDDh3",
        "outputId": "84f4fbed-d441-49e5-ef46-771261cc4a50"
      },
      "execution_count": null,
      "outputs": [
        {
          "output_type": "stream",
          "name": "stdout",
          "text": [
            "Label: performance\n",
            "Positive Percentage: 41.14%\n",
            "Negative Percentage: 58.86%\n",
            "\n",
            "Label: camera\n",
            "Positive Percentage: 53.08%\n",
            "Negative Percentage: 46.92%\n",
            "\n",
            "Label: display\n",
            "Positive Percentage: 36.62%\n",
            "Negative Percentage: 63.38%\n",
            "\n",
            "Label: value for money\n",
            "Positive Percentage: 93.24%\n",
            "Negative Percentage: 6.76%\n",
            "\n",
            "Label: battery\n",
            "Positive Percentage: 54.51%\n",
            "Negative Percentage: 45.49%\n",
            "\n"
          ]
        }
      ]
    },
    {
      "cell_type": "code",
      "source": [
        "# Create a function to calculate ratings based on sentiment percentages\n",
        "def calculate_rating(positive_percentage, negative_percentage, rating_scale=5):\n",
        "    # The formula to calculate the rating based on sentiment percentages\n",
        "    rating = (positive_percentage / 100) * rating_scale\n",
        "\n",
        "    # Optionally, you can adjust the rating based on the negative sentiment percentage\n",
        "    # For example, reduce the rating if there is a significant negative sentiment\n",
        "    # rating -= (negative_percentage / 100) * rating_scale\n",
        "\n",
        "    return rating\n",
        "\n",
        "# Create a dictionary to store ratings for each label\n",
        "label_ratings = {}\n",
        "\n",
        "# Calculate and store ratings based on sentiment percentages for each label\n",
        "for label in unique_labels:\n",
        "    positive_percentage = label_sentiments[label]['Positive Percentage']\n",
        "    negative_percentage = label_sentiments[label]['Negative Percentage']\n",
        "\n",
        "    rating = calculate_rating(positive_percentage, negative_percentage)\n",
        "\n",
        "    label_ratings[label] = rating\n",
        "\n",
        "# Print the ratings\n",
        "for label in unique_labels:\n",
        "    print(f'Label: {label}')\n",
        "    print(f'Label: {label}')\n",
        "    print(f'Positive Percentage: {label_sentiments[label][\"Positive Percentage\"]:.2f}%')\n",
        "    print(f'Negative Percentage: {label_sentiments[label][\"Negative Percentage\"]:.2f}%')\n",
        "\n",
        "    print(f'Rating: {label_ratings[label]:.2f} out of 5')\n",
        "    print()\n"
      ],
      "metadata": {
        "colab": {
          "base_uri": "https://localhost:8080/"
        },
        "id": "bF94hy3DDIov",
        "outputId": "f7c17416-247e-4ef7-fa50-8a54c2a7a491"
      },
      "execution_count": null,
      "outputs": [
        {
          "output_type": "stream",
          "name": "stdout",
          "text": [
            "Label: performance\n",
            "Label: performance\n",
            "Positive Percentage: 41.14%\n",
            "Negative Percentage: 58.86%\n",
            "Rating: 2.06 out of 5\n",
            "\n",
            "Label: camera\n",
            "Label: camera\n",
            "Positive Percentage: 53.08%\n",
            "Negative Percentage: 46.92%\n",
            "Rating: 2.65 out of 5\n",
            "\n",
            "Label: display\n",
            "Label: display\n",
            "Positive Percentage: 36.62%\n",
            "Negative Percentage: 63.38%\n",
            "Rating: 1.83 out of 5\n",
            "\n",
            "Label: value for money\n",
            "Label: value for money\n",
            "Positive Percentage: 93.24%\n",
            "Negative Percentage: 6.76%\n",
            "Rating: 4.66 out of 5\n",
            "\n",
            "Label: battery\n",
            "Label: battery\n",
            "Positive Percentage: 54.51%\n",
            "Negative Percentage: 45.49%\n",
            "Rating: 2.73 out of 5\n",
            "\n"
          ]
        }
      ]
    },
    {
      "cell_type": "code",
      "source": [
        "from sklearn.naive_bayes import MultinomialNB\n",
        "from sklearn.feature_extraction.text import CountVectorizer\n",
        "from sklearn.pipeline import make_pipeline\n",
        "import joblib\n",
        "\n",
        "# Example: Train and save the model\n",
        "texts = [\"This is a positive example.\", \"This is a negative example.\", \"This is another positive example.\"]\n",
        "labels = [\"positive\", \"negative\", \"positive\"]\n",
        "\n",
        "model = make_pipeline(CountVectorizer(), MultinomialNB())\n",
        "model.fit(texts, labels)\n",
        "\n",
        "# Save the model to a file\n",
        "joblib.dump(model, \"multinomialnb_model.pkl\")"
      ],
      "metadata": {
        "colab": {
          "base_uri": "https://localhost:8080/"
        },
        "id": "4criBmvmRvKW",
        "outputId": "e9f10ece-9b7d-4841-9d3c-16869896ba15"
      },
      "execution_count": null,
      "outputs": [
        {
          "output_type": "execute_result",
          "data": {
            "text/plain": [
              "['multinomialnb_model.pkl']"
            ]
          },
          "metadata": {},
          "execution_count": 10
        }
      ]
    },
    {
      "cell_type": "code",
      "source": [
        "import joblib\n",
        "\n",
        "# Load the model from the file\n",
        "loaded_model = joblib.load(\"multinomialnb_model.pkl\")\n",
        "\n",
        "# Example: Use the loaded model for prediction\n",
        "text_to_predict = \"This is a new text for prediction.\"\n",
        "prediction = loaded_model.predict([text_to_predict])\n",
        "\n",
        "print(\"Prediction:\", prediction[0])\n"
      ],
      "metadata": {
        "colab": {
          "base_uri": "https://localhost:8080/"
        },
        "id": "h2LWZYkDRzCr",
        "outputId": "576e3dd4-2f28-4773-8e11-691db65ba0bf"
      },
      "execution_count": null,
      "outputs": [
        {
          "output_type": "stream",
          "name": "stdout",
          "text": [
            "Prediction: positive\n"
          ]
        }
      ]
    },
    {
      "cell_type": "code",
      "source": [
        "# Assuming X_test contains your test set text data\n",
        "predictions = loaded_model.predict(X_test)"
      ],
      "metadata": {
        "id": "IXL9nClAR-bb"
      },
      "execution_count": null,
      "outputs": []
    },
    {
      "cell_type": "code",
      "source": [
        "from sklearn.metrics import accuracy_score, classification_report\n",
        "\n",
        "accuracy = accuracy_score(y_test, predictions)\n",
        "report = classification_report(y_test, predictions)\n",
        "\n",
        "print(f\"Accuracy: {accuracy:.2f}\")\n",
        "print(\"Classification Report:\\n\", report)\n"
      ],
      "metadata": {
        "colab": {
          "base_uri": "https://localhost:8080/",
          "height": 445
        },
        "id": "0CFM8NudSFS7",
        "outputId": "71c6718d-a9d0-45d1-fa95-f6dbf1706180"
      },
      "execution_count": null,
      "outputs": [
        {
          "output_type": "stream",
          "name": "stderr",
          "text": [
            "/usr/local/lib/python3.10/dist-packages/sklearn/metrics/_classification.py:227: FutureWarning: elementwise comparison failed; returning scalar instead, but in the future will perform elementwise comparison\n",
            "  score = y_true == y_pred\n"
          ]
        },
        {
          "output_type": "error",
          "ename": "ValueError",
          "evalue": "ignored",
          "traceback": [
            "\u001b[0;31m---------------------------------------------------------------------------\u001b[0m",
            "\u001b[0;31mValueError\u001b[0m                                Traceback (most recent call last)",
            "\u001b[0;32m<ipython-input-14-a81d943743f2>\u001b[0m in \u001b[0;36m<cell line: 4>\u001b[0;34m()\u001b[0m\n\u001b[1;32m      2\u001b[0m \u001b[0;34m\u001b[0m\u001b[0m\n\u001b[1;32m      3\u001b[0m \u001b[0maccuracy\u001b[0m \u001b[0;34m=\u001b[0m \u001b[0maccuracy_score\u001b[0m\u001b[0;34m(\u001b[0m\u001b[0my_sentiment_test\u001b[0m\u001b[0;34m,\u001b[0m \u001b[0mpredictions\u001b[0m\u001b[0;34m)\u001b[0m\u001b[0;34m\u001b[0m\u001b[0;34m\u001b[0m\u001b[0m\n\u001b[0;32m----> 4\u001b[0;31m \u001b[0mreport\u001b[0m \u001b[0;34m=\u001b[0m \u001b[0mclassification_report\u001b[0m\u001b[0;34m(\u001b[0m\u001b[0my_sentiment_test\u001b[0m\u001b[0;34m,\u001b[0m \u001b[0mpredictions\u001b[0m\u001b[0;34m)\u001b[0m\u001b[0;34m\u001b[0m\u001b[0;34m\u001b[0m\u001b[0m\n\u001b[0m\u001b[1;32m      5\u001b[0m \u001b[0;34m\u001b[0m\u001b[0m\n\u001b[1;32m      6\u001b[0m \u001b[0mprint\u001b[0m\u001b[0;34m(\u001b[0m\u001b[0;34mf\"Accuracy: {accuracy:.2f}\"\u001b[0m\u001b[0;34m)\u001b[0m\u001b[0;34m\u001b[0m\u001b[0;34m\u001b[0m\u001b[0m\n",
            "\u001b[0;32m/usr/local/lib/python3.10/dist-packages/sklearn/metrics/_classification.py\u001b[0m in \u001b[0;36mclassification_report\u001b[0;34m(y_true, y_pred, labels, target_names, sample_weight, digits, output_dict, zero_division)\u001b[0m\n\u001b[1;32m   2311\u001b[0m \u001b[0;34m\u001b[0m\u001b[0m\n\u001b[1;32m   2312\u001b[0m     \u001b[0;32mif\u001b[0m \u001b[0mlabels\u001b[0m \u001b[0;32mis\u001b[0m \u001b[0;32mNone\u001b[0m\u001b[0;34m:\u001b[0m\u001b[0;34m\u001b[0m\u001b[0;34m\u001b[0m\u001b[0m\n\u001b[0;32m-> 2313\u001b[0;31m         \u001b[0mlabels\u001b[0m \u001b[0;34m=\u001b[0m \u001b[0munique_labels\u001b[0m\u001b[0;34m(\u001b[0m\u001b[0my_true\u001b[0m\u001b[0;34m,\u001b[0m \u001b[0my_pred\u001b[0m\u001b[0;34m)\u001b[0m\u001b[0;34m\u001b[0m\u001b[0;34m\u001b[0m\u001b[0m\n\u001b[0m\u001b[1;32m   2314\u001b[0m         \u001b[0mlabels_given\u001b[0m \u001b[0;34m=\u001b[0m \u001b[0;32mFalse\u001b[0m\u001b[0;34m\u001b[0m\u001b[0;34m\u001b[0m\u001b[0m\n\u001b[1;32m   2315\u001b[0m     \u001b[0;32melse\u001b[0m\u001b[0;34m:\u001b[0m\u001b[0;34m\u001b[0m\u001b[0;34m\u001b[0m\u001b[0m\n",
            "\u001b[0;32m/usr/local/lib/python3.10/dist-packages/sklearn/utils/multiclass.py\u001b[0m in \u001b[0;36munique_labels\u001b[0;34m(*ys)\u001b[0m\n\u001b[1;32m    115\u001b[0m     \u001b[0;31m# Check that we don't mix string type with number type\u001b[0m\u001b[0;34m\u001b[0m\u001b[0;34m\u001b[0m\u001b[0m\n\u001b[1;32m    116\u001b[0m     \u001b[0;32mif\u001b[0m \u001b[0mlen\u001b[0m\u001b[0;34m(\u001b[0m\u001b[0mset\u001b[0m\u001b[0;34m(\u001b[0m\u001b[0misinstance\u001b[0m\u001b[0;34m(\u001b[0m\u001b[0mlabel\u001b[0m\u001b[0;34m,\u001b[0m \u001b[0mstr\u001b[0m\u001b[0;34m)\u001b[0m \u001b[0;32mfor\u001b[0m \u001b[0mlabel\u001b[0m \u001b[0;32min\u001b[0m \u001b[0mys_labels\u001b[0m\u001b[0;34m)\u001b[0m\u001b[0;34m)\u001b[0m \u001b[0;34m>\u001b[0m \u001b[0;36m1\u001b[0m\u001b[0;34m:\u001b[0m\u001b[0;34m\u001b[0m\u001b[0;34m\u001b[0m\u001b[0m\n\u001b[0;32m--> 117\u001b[0;31m         \u001b[0;32mraise\u001b[0m \u001b[0mValueError\u001b[0m\u001b[0;34m(\u001b[0m\u001b[0;34m\"Mix of label input types (string and number)\"\u001b[0m\u001b[0;34m)\u001b[0m\u001b[0;34m\u001b[0m\u001b[0;34m\u001b[0m\u001b[0m\n\u001b[0m\u001b[1;32m    118\u001b[0m \u001b[0;34m\u001b[0m\u001b[0m\n\u001b[1;32m    119\u001b[0m     \u001b[0;32mreturn\u001b[0m \u001b[0mxp\u001b[0m\u001b[0;34m.\u001b[0m\u001b[0masarray\u001b[0m\u001b[0;34m(\u001b[0m\u001b[0msorted\u001b[0m\u001b[0;34m(\u001b[0m\u001b[0mys_labels\u001b[0m\u001b[0;34m)\u001b[0m\u001b[0;34m)\u001b[0m\u001b[0;34m\u001b[0m\u001b[0;34m\u001b[0m\u001b[0m\n",
            "\u001b[0;31mValueError\u001b[0m: Mix of label input types (string and number)"
          ]
        }
      ]
    },
    {
      "cell_type": "code",
      "source": [
        "pip install streamlit"
      ],
      "metadata": {
        "colab": {
          "base_uri": "https://localhost:8080/"
        },
        "id": "Hzwvte1GgJoD",
        "outputId": "54e3b745-52d8-44af-a4ff-80ea1ab8a5a3"
      },
      "execution_count": null,
      "outputs": [
        {
          "output_type": "stream",
          "name": "stdout",
          "text": [
            "Collecting streamlit\n",
            "  Downloading streamlit-1.28.1-py2.py3-none-any.whl (8.4 MB)\n",
            "\u001b[2K     \u001b[90m━━━━━━━━━━━━━━━━━━━━━━━━━━━━━━━━━━━━━━━━\u001b[0m \u001b[32m8.4/8.4 MB\u001b[0m \u001b[31m53.5 MB/s\u001b[0m eta \u001b[36m0:00:00\u001b[0m\n",
            "\u001b[?25hRequirement already satisfied: altair<6,>=4.0 in /usr/local/lib/python3.10/dist-packages (from streamlit) (4.2.2)\n",
            "Requirement already satisfied: blinker<2,>=1.0.0 in /usr/lib/python3/dist-packages (from streamlit) (1.4)\n",
            "Requirement already satisfied: cachetools<6,>=4.0 in /usr/local/lib/python3.10/dist-packages (from streamlit) (5.3.2)\n",
            "Requirement already satisfied: click<9,>=7.0 in /usr/local/lib/python3.10/dist-packages (from streamlit) (8.1.7)\n",
            "Requirement already satisfied: importlib-metadata<7,>=1.4 in /usr/local/lib/python3.10/dist-packages (from streamlit) (6.8.0)\n",
            "Requirement already satisfied: numpy<2,>=1.19.3 in /usr/local/lib/python3.10/dist-packages (from streamlit) (1.23.5)\n",
            "Requirement already satisfied: packaging<24,>=16.8 in /usr/local/lib/python3.10/dist-packages (from streamlit) (23.2)\n",
            "Requirement already satisfied: pandas<3,>=1.3.0 in /usr/local/lib/python3.10/dist-packages (from streamlit) (1.5.3)\n",
            "Requirement already satisfied: pillow<11,>=7.1.0 in /usr/local/lib/python3.10/dist-packages (from streamlit) (9.4.0)\n",
            "Requirement already satisfied: protobuf<5,>=3.20 in /usr/local/lib/python3.10/dist-packages (from streamlit) (3.20.3)\n",
            "Requirement already satisfied: pyarrow>=6.0 in /usr/local/lib/python3.10/dist-packages (from streamlit) (9.0.0)\n",
            "Requirement already satisfied: python-dateutil<3,>=2.7.3 in /usr/local/lib/python3.10/dist-packages (from streamlit) (2.8.2)\n",
            "Requirement already satisfied: requests<3,>=2.27 in /usr/local/lib/python3.10/dist-packages (from streamlit) (2.31.0)\n",
            "Requirement already satisfied: rich<14,>=10.14.0 in /usr/local/lib/python3.10/dist-packages (from streamlit) (13.6.0)\n",
            "Requirement already satisfied: tenacity<9,>=8.1.0 in /usr/local/lib/python3.10/dist-packages (from streamlit) (8.2.3)\n",
            "Requirement already satisfied: toml<2,>=0.10.1 in /usr/local/lib/python3.10/dist-packages (from streamlit) (0.10.2)\n",
            "Requirement already satisfied: typing-extensions<5,>=4.3.0 in /usr/local/lib/python3.10/dist-packages (from streamlit) (4.5.0)\n",
            "Requirement already satisfied: tzlocal<6,>=1.1 in /usr/local/lib/python3.10/dist-packages (from streamlit) (5.2)\n",
            "Collecting validators<1,>=0.2 (from streamlit)\n",
            "  Downloading validators-0.22.0-py3-none-any.whl (26 kB)\n",
            "Collecting gitpython!=3.1.19,<4,>=3.0.7 (from streamlit)\n",
            "  Downloading GitPython-3.1.40-py3-none-any.whl (190 kB)\n",
            "\u001b[2K     \u001b[90m━━━━━━━━━━━━━━━━━━━━━━━━━━━━━━━━━━━━━━━━\u001b[0m \u001b[32m190.6/190.6 kB\u001b[0m \u001b[31m22.3 MB/s\u001b[0m eta \u001b[36m0:00:00\u001b[0m\n",
            "\u001b[?25hCollecting pydeck<1,>=0.8.0b4 (from streamlit)\n",
            "  Downloading pydeck-0.8.1b0-py2.py3-none-any.whl (4.8 MB)\n",
            "\u001b[2K     \u001b[90m━━━━━━━━━━━━━━━━━━━━━━━━━━━━━━━━━━━━━━━━\u001b[0m \u001b[32m4.8/4.8 MB\u001b[0m \u001b[31m94.6 MB/s\u001b[0m eta \u001b[36m0:00:00\u001b[0m\n",
            "\u001b[?25hRequirement already satisfied: tornado<7,>=6.0.3 in /usr/local/lib/python3.10/dist-packages (from streamlit) (6.3.2)\n",
            "Collecting watchdog>=2.1.5 (from streamlit)\n",
            "  Downloading watchdog-3.0.0-py3-none-manylinux2014_x86_64.whl (82 kB)\n",
            "\u001b[2K     \u001b[90m━━━━━━━━━━━━━━━━━━━━━━━━━━━━━━━━━━━━━━━━\u001b[0m \u001b[32m82.1/82.1 kB\u001b[0m \u001b[31m11.1 MB/s\u001b[0m eta \u001b[36m0:00:00\u001b[0m\n",
            "\u001b[?25hRequirement already satisfied: entrypoints in /usr/local/lib/python3.10/dist-packages (from altair<6,>=4.0->streamlit) (0.4)\n",
            "Requirement already satisfied: jinja2 in /usr/local/lib/python3.10/dist-packages (from altair<6,>=4.0->streamlit) (3.1.2)\n",
            "Requirement already satisfied: jsonschema>=3.0 in /usr/local/lib/python3.10/dist-packages (from altair<6,>=4.0->streamlit) (4.19.2)\n",
            "Requirement already satisfied: toolz in /usr/local/lib/python3.10/dist-packages (from altair<6,>=4.0->streamlit) (0.12.0)\n",
            "Collecting gitdb<5,>=4.0.1 (from gitpython!=3.1.19,<4,>=3.0.7->streamlit)\n",
            "  Downloading gitdb-4.0.11-py3-none-any.whl (62 kB)\n",
            "\u001b[2K     \u001b[90m━━━━━━━━━━━━━━━━━━━━━━━━━━━━━━━━━━━━━━━━\u001b[0m \u001b[32m62.7/62.7 kB\u001b[0m \u001b[31m7.7 MB/s\u001b[0m eta \u001b[36m0:00:00\u001b[0m\n",
            "\u001b[?25hRequirement already satisfied: zipp>=0.5 in /usr/local/lib/python3.10/dist-packages (from importlib-metadata<7,>=1.4->streamlit) (3.17.0)\n",
            "Requirement already satisfied: pytz>=2020.1 in /usr/local/lib/python3.10/dist-packages (from pandas<3,>=1.3.0->streamlit) (2023.3.post1)\n",
            "Requirement already satisfied: six>=1.5 in /usr/local/lib/python3.10/dist-packages (from python-dateutil<3,>=2.7.3->streamlit) (1.16.0)\n",
            "Requirement already satisfied: charset-normalizer<4,>=2 in /usr/local/lib/python3.10/dist-packages (from requests<3,>=2.27->streamlit) (3.3.2)\n",
            "Requirement already satisfied: idna<4,>=2.5 in /usr/local/lib/python3.10/dist-packages (from requests<3,>=2.27->streamlit) (3.4)\n",
            "Requirement already satisfied: urllib3<3,>=1.21.1 in /usr/local/lib/python3.10/dist-packages (from requests<3,>=2.27->streamlit) (2.0.7)\n",
            "Requirement already satisfied: certifi>=2017.4.17 in /usr/local/lib/python3.10/dist-packages (from requests<3,>=2.27->streamlit) (2023.7.22)\n",
            "Requirement already satisfied: markdown-it-py>=2.2.0 in /usr/local/lib/python3.10/dist-packages (from rich<14,>=10.14.0->streamlit) (3.0.0)\n",
            "Requirement already satisfied: pygments<3.0.0,>=2.13.0 in /usr/local/lib/python3.10/dist-packages (from rich<14,>=10.14.0->streamlit) (2.16.1)\n",
            "Collecting smmap<6,>=3.0.1 (from gitdb<5,>=4.0.1->gitpython!=3.1.19,<4,>=3.0.7->streamlit)\n",
            "  Downloading smmap-5.0.1-py3-none-any.whl (24 kB)\n",
            "Requirement already satisfied: MarkupSafe>=2.0 in /usr/local/lib/python3.10/dist-packages (from jinja2->altair<6,>=4.0->streamlit) (2.1.3)\n",
            "Requirement already satisfied: attrs>=22.2.0 in /usr/local/lib/python3.10/dist-packages (from jsonschema>=3.0->altair<6,>=4.0->streamlit) (23.1.0)\n",
            "Requirement already satisfied: jsonschema-specifications>=2023.03.6 in /usr/local/lib/python3.10/dist-packages (from jsonschema>=3.0->altair<6,>=4.0->streamlit) (2023.7.1)\n",
            "Requirement already satisfied: referencing>=0.28.4 in /usr/local/lib/python3.10/dist-packages (from jsonschema>=3.0->altair<6,>=4.0->streamlit) (0.30.2)\n",
            "Requirement already satisfied: rpds-py>=0.7.1 in /usr/local/lib/python3.10/dist-packages (from jsonschema>=3.0->altair<6,>=4.0->streamlit) (0.11.0)\n",
            "Requirement already satisfied: mdurl~=0.1 in /usr/local/lib/python3.10/dist-packages (from markdown-it-py>=2.2.0->rich<14,>=10.14.0->streamlit) (0.1.2)\n",
            "Installing collected packages: watchdog, validators, smmap, pydeck, gitdb, gitpython, streamlit\n",
            "Successfully installed gitdb-4.0.11 gitpython-3.1.40 pydeck-0.8.1b0 smmap-5.0.1 streamlit-1.28.1 validators-0.22.0 watchdog-3.0.0\n"
          ]
        }
      ]
    },
    {
      "cell_type": "code",
      "source": [
        "import streamlit as st\n",
        "from PIL import Image\n",
        "\n",
        "image = Image.open('/content/Sentimentlow.jpg')\n",
        "\n",
        "st.image(image, caption='Sentimentlow')"
      ],
      "metadata": {
        "colab": {
          "base_uri": "https://localhost:8080/"
        },
        "id": "_4l7UXcFgGB2",
        "outputId": "c1ac3c42-8124-47aa-9976-632aced2f4ac"
      },
      "execution_count": null,
      "outputs": [
        {
          "output_type": "stream",
          "name": "stderr",
          "text": [
            "2023-11-08 10:37:41.326 \n",
            "  \u001b[33m\u001b[1mWarning:\u001b[0m to view this Streamlit app on a browser, run it with the following\n",
            "  command:\n",
            "\n",
            "    streamlit run /usr/local/lib/python3.10/dist-packages/colab_kernel_launcher.py [ARGUMENTS]\n"
          ]
        },
        {
          "output_type": "execute_result",
          "data": {
            "text/plain": [
              "DeltaGenerator()"
            ]
          },
          "metadata": {},
          "execution_count": 21
        }
      ]
    },
    {
      "cell_type": "code",
      "source": [
        "import os\n",
        "current_directory = os.getcwd()\n",
        "print(f\"Current Working Directory: {current_directory}\")"
      ],
      "metadata": {
        "colab": {
          "base_uri": "https://localhost:8080/"
        },
        "id": "WUm2aRGnDeBn",
        "outputId": "53f7e44c-ebbd-44d7-a5f2-e1c8603af7d6"
      },
      "execution_count": null,
      "outputs": [
        {
          "output_type": "stream",
          "name": "stdout",
          "text": [
            "Current Working Directory: /content\n"
          ]
        }
      ]
    },
    {
      "cell_type": "code",
      "source": [
        "import pickle\n",
        "\n",
        "# Save your model to a file using pickle\n",
        "model = MultinomialNB()  # Replace with your actual trained model\n",
        "tfidf_vectorizer = TfidfVectorizer()\n",
        "model_file_path = '/content/sentiment_model.pkl'  # Provide the full file path for the model\n",
        "tfidf_vectorizer_file_path = '/content/tfidf_vectorizer.pkl'  # Provide the full file path for the TF-IDF vectorizer\n",
        "\n",
        "with open(model_file_path, 'wb') as model_file:\n",
        "    pickle.dump(model, model_file)\n",
        "\n",
        "with open(tfidf_vectorizer_file_path, 'wb') as tfidf_file:\n",
        "    pickle.dump(tfidf_vectorizer, tfidf_file)\n",
        "\n",
        "# Load the model and TF-IDF vectorizer from the saved files\n",
        "with open(model_file_path, 'rb') as model_file:\n",
        "    loaded_model = pickle.load(model_file)\n",
        "\n",
        "with open(tfidf_vectorizer_file_path, 'rb') as tfidf_file:\n",
        "    loaded_tfidf_vectorizer = pickle.load(tfidf_file)\n",
        "\n"
      ],
      "metadata": {
        "id": "LxkphQn9De62"
      },
      "execution_count": null,
      "outputs": []
    }
  ]
}