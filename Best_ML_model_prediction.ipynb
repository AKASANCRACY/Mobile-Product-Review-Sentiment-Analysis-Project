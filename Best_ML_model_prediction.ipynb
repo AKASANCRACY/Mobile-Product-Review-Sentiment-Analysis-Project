{
  "nbformat": 4,
  "nbformat_minor": 0,
  "metadata": {
    "colab": {
      "provenance": []
    },
    "kernelspec": {
      "name": "python3",
      "display_name": "Python 3"
    },
    "language_info": {
      "name": "python"
    }
  },
  "cells": [
    {
      "cell_type": "code",
      "execution_count": null,
      "metadata": {
        "colab": {
          "base_uri": "https://localhost:8080/"
        },
        "id": "JRBJ4MrxVaxa",
        "outputId": "4a879f31-ae26-45e4-8321-13c4f57480c4"
      },
      "outputs": [
        {
          "output_type": "stream",
          "name": "stdout",
          "text": [
            "Sentiment Analysis Accuracy: 0.8707008016550297\n",
            "Mean Squared Error for Ratings: 5.034545381435629\n"
          ]
        }
      ],
      "source": [
        "#SVM\n",
        "import pandas as pd\n",
        "from sklearn.model_selection import train_test_split\n",
        "from sklearn.feature_extraction.text import TfidfVectorizer\n",
        "from sklearn.svm import SVC\n",
        "from sklearn.metrics import accuracy_score, mean_squared_error\n",
        "from textblob import TextBlob\n",
        "\n",
        "# Load the data\n",
        "df2 = pd.read_csv('/content/merged_data.csv')\n",
        "\n",
        "# Handle missing values by imputing with empty strings\n",
        "df2['Cleaned_Review'].fillna('', inplace=True)\n",
        "\n",
        "# Split the data into training and testing sets\n",
        "X = df2['Cleaned_Review']  # Text data\n",
        "y_sentiment = df2['Sentiment']  # Positive or Negative labels\n",
        "y_rating = df2['rating']  # Numeric ratings\n",
        "\n",
        "X_train, X_test, y_sentiment_train, y_sentiment_test, y_rating_train, y_rating_test = train_test_split(\n",
        "    X, y_sentiment, y_rating, test_size=0.2, random_state=42)\n",
        "\n",
        "# Create TF-IDF vectors from the text data\n",
        "tfidf_vectorizer = TfidfVectorizer(max_features=1000)\n",
        "X_train_tfidf = tfidf_vectorizer.fit_transform(X_train)\n",
        "X_test_tfidf = tfidf_vectorizer.transform(X_test)\n",
        "\n",
        "# Train a sentiment analysis model using SVM\n",
        "sentiment_classifier = SVC(kernel='linear', C=1.0)\n",
        "sentiment_classifier.fit(X_train_tfidf, y_sentiment_train)\n",
        "\n",
        "# Predict sentiment on the test set\n",
        "y_sentiment_pred = sentiment_classifier.predict(X_test_tfidf)\n",
        "\n",
        "# Evaluate the sentiment analysis model\n",
        "sentiment_accuracy = accuracy_score(y_sentiment_test, y_sentiment_pred)\n",
        "\n",
        "# Calculate sentiment scores using TextBlob for the entire dataset\n",
        "df2['textblob_sentiment'] = df2['Cleaned_Review'].apply(lambda x: TextBlob(x).sentiment.polarity)\n",
        "\n",
        "# Normalize TextBlob sentiment scores to the [0, 1] scale\n",
        "df2['normalized_sentiment'] = (df2['textblob_sentiment'] + 1) / 2\n",
        "\n",
        "# Combine the model's predicted sentiment with TextBlob sentiment scores\n",
        "df2['combined_sentiment'] = (df2['normalized_sentiment'] + (y_sentiment == 'positive').astype(int)) / 2\n",
        "\n",
        "# Calculate the overall rating score on a scale of 5\n",
        "df2['rating'] = 5 * df2['combined_sentiment']\n",
        "\n",
        "# Calculate the Mean Squared Error (MSE) for the ratings\n",
        "rating_mse = mean_squared_error(y_rating_test, df2.loc[y_rating_test.index, 'rating'])\n",
        "\n",
        "# Print results\n",
        "print(f'Sentiment Analysis Accuracy: {sentiment_accuracy}')\n",
        "print(f'Mean Squared Error for Ratings: {rating_mse}')\n"
      ]
    },
    {
      "cell_type": "code",
      "source": [
        "#multimonial NB\n",
        "import pandas as pd\n",
        "from sklearn.model_selection import train_test_split\n",
        "from sklearn.feature_extraction.text import TfidfVectorizer\n",
        "from sklearn.naive_bayes import MultinomialNB\n",
        "from sklearn.metrics import accuracy_score, mean_squared_error\n",
        "from textblob import TextBlob\n",
        "\n",
        "# Load the data\n",
        "df = pd.read_csv('/content/merged_data.csv')\n",
        "\n",
        "# Handle missing values by imputing with empty strings\n",
        "df['Cleaned_Review'].fillna('', inplace=True)\n",
        "\n",
        "# Split the data into training and testing sets\n",
        "X = df['Cleaned_Review']  # Text data\n",
        "y_sentiment = df['Sentiment']  # Positive or Negative labels\n",
        "y_rating = df['rating']  # Numeric ratings\n",
        "\n",
        "X_train, X_test, y_sentiment_train, y_sentiment_test, y_rating_train, y_rating_test = train_test_split(X, y_sentiment, y_rating, test_size=0.2, random_state=42)\n",
        "\n",
        "# Create TF-IDF vectors from the text data\n",
        "tfidf_vectorizer = TfidfVectorizer(max_features=1000)\n",
        "X_train_tfidf = tfidf_vectorizer.fit_transform(X_train)\n",
        "X_test_tfidf = tfidf_vectorizer.transform(X_test)\n",
        "\n",
        "# Train a sentiment analysis model (e.g., Multinomial Naive Bayes)\n",
        "sentiment_classifier = MultinomialNB()\n",
        "sentiment_classifier.fit(X_train_tfidf, y_sentiment_train)\n",
        "\n",
        "# Predict sentiment on the test set\n",
        "y_sentiment_pred = sentiment_classifier.predict(X_test_tfidf)\n",
        "\n",
        "# Evaluate the sentiment analysis model\n",
        "sentiment_accuracy = accuracy_score(y_sentiment_test, y_sentiment_pred)\n",
        "\n",
        "# Calculate sentiment scores using TextBlob for the entire dataset\n",
        "df['textblob_sentiment'] = df['Cleaned_Review'].apply(lambda x: TextBlob(x).sentiment.polarity)\n",
        "\n",
        "# Normalize TextBlob sentiment scores to the [0, 1] scale\n",
        "df['normalized_sentiment'] = (df['textblob_sentiment'] + 1) / 2\n",
        "\n",
        "# Combine the model's predicted sentiment with TextBlob sentiment scores\n",
        "df['combined_sentiment'] = (df['normalized_sentiment'] + (y_sentiment == 'positive').astype(int)) / 2\n",
        "\n",
        "# Calculate the overall rating score on a scale of 5\n",
        "df['rating'] = 5 * df['combined_sentiment']\n",
        "\n",
        "# Calculate the Mean Squared Error (MSE) for the ratings\n",
        "rating_mse = mean_squared_error(y_rating_test, df2.loc[y_rating_test.index, 'rating'])\n",
        "# Print results\n",
        "print(f'Sentiment Analysis Accuracy: {sentiment_accuracy}')\n",
        "print(f'Mean Squared Error for Ratings: {rating_mse}')"
      ],
      "metadata": {
        "colab": {
          "base_uri": "https://localhost:8080/"
        },
        "id": "VFwb5s94Weqr",
        "outputId": "d0f8357a-6252-4a64-fe4a-83869daf29be"
      },
      "execution_count": null,
      "outputs": [
        {
          "output_type": "stream",
          "name": "stdout",
          "text": [
            "Sentiment Analysis Accuracy: 0.8580294802172227\n",
            "Mean Squared Error for Ratings: 5.034545381435629\n"
          ]
        }
      ]
    },
    {
      "cell_type": "code",
      "source": [
        "#logistic\n",
        "\n",
        "from sklearn.linear_model import LogisticRegression\n",
        "\n",
        "df1 = pd.read_csv('/content/merged_data.csv')\n",
        "# Assuming df2 is your DataFrame with 'Cleaned_Review', 'Sentiment', and 'rating' columns\n",
        "df1['Cleaned_Review'].fillna('', inplace=True)\n",
        "\n",
        "# Split the data into training and testing sets\n",
        "X = df1['Cleaned_Review']  # Text data\n",
        "y_sentiment = df1['Sentiment']  # Positive or Negative labels\n",
        "y_rating = df1['rating']  # Numeric ratings\n",
        "\n",
        "X_train, X_test, y_sentiment_train, y_sentiment_test, y_rating_train, y_rating_test = train_test_split(\n",
        "    X, y_sentiment, y_rating, test_size=0.2, random_state=42\n",
        ")\n",
        "\n",
        "# Create TF-IDF vectors from the text data\n",
        "tfidf_vectorizer = TfidfVectorizer(max_features=1000)\n",
        "X_train_tfidf = tfidf_vectorizer.fit_transform(X_train)\n",
        "X_test_tfidf = tfidf_vectorizer.transform(X_test)\n",
        "\n",
        "# Train a logistic regression model\n",
        "logistic_classifier = LogisticRegression()\n",
        "logistic_classifier.fit(X_train_tfidf, y_sentiment_train)\n",
        "\n",
        "# Predict sentiment on the test set\n",
        "y_sentiment_pred = logistic_classifier.predict(X_test_tfidf)\n",
        "\n",
        "# Evaluate the sentiment analysis model\n",
        "sentiment_accuracy = accuracy_score(y_sentiment_test, y_sentiment_pred)\n",
        "\n",
        "# Calculate sentiment scores using TextBlob for the entire dataset\n",
        "df1['textblob_sentiment'] = df1['Cleaned_Review'].apply(lambda x: TextBlob(x).sentiment.polarity)\n",
        "\n",
        "# Normalize TextBlob sentiment scores to the [0, 1] scale\n",
        "df1['normalized_sentiment'] = (df1['textblob_sentiment'] + 1) / 2\n",
        "\n",
        "# Combine the model's predicted sentiment with TextBlob sentiment scores\n",
        "df1['combined_sentiment'] = (df1['normalized_sentiment'] + (y_sentiment == 'positive').astype(int)) / 2\n",
        "\n",
        "# Calculate the overall rating score on a scale of 5\n",
        "df1['rating'] = 5 * df1['combined_sentiment']\n",
        "\n",
        "# Calculate the Mean Squared Error (MSE) for the ratings\n",
        "rating_mse = mean_squared_error(y_rating_test, df1.loc[y_rating_test.index, 'rating'])\n",
        "\n",
        "# Print results\n",
        "print(f'Sentiment Analysis Accuracy: {sentiment_accuracy}')\n",
        "print(f'Mean Squared Error for Ratings: {rating_mse}')\n"
      ],
      "metadata": {
        "colab": {
          "base_uri": "https://localhost:8080/"
        },
        "id": "6poS6vpBXUCN",
        "outputId": "e88f123a-4b47-4953-f6a0-c8ac64cdbcef"
      },
      "execution_count": null,
      "outputs": [
        {
          "output_type": "stream",
          "name": "stdout",
          "text": [
            "Sentiment Analysis Accuracy: 0.873545384018619\n",
            "Mean Squared Error for Ratings: 5.034545381435629\n"
          ]
        }
      ]
    },
    {
      "cell_type": "code",
      "source": [
        "\n",
        "from sklearn.ensemble import RandomForestClassifier, GradientBoostingClassifier\n",
        "\n",
        "df3 = pd.read_csv('/content/merged_data.csv')\n",
        "# Assuming df3 is your DataFrame with 'Cleaned_Review', 'Sentiment', and 'rating' columns\n",
        "df3['Cleaned_Review'].fillna('', inplace=True)\n",
        "\n",
        "# Split the data into training and testing sets\n",
        "X = df3['Cleaned_Review']  # Text data\n",
        "y_sentiment = df3['Sentiment']  # Positive or Negative labels\n",
        "y_rating = df3['rating']  # Numeric ratings\n",
        "\n",
        "X_train, X_test, y_sentiment_train, y_sentiment_test, y_rating_train, y_rating_test = train_test_split(\n",
        "    X, y_sentiment, y_rating, test_size=0.2, random_state=42\n",
        ")\n",
        "\n",
        "# Create TF-IDF vectors from the text data\n",
        "tfidf_vectorizer = TfidfVectorizer(max_features=1000)\n",
        "X_train_tfidf = tfidf_vectorizer.fit_transform(X_train)\n",
        "X_test_tfidf = tfidf_vectorizer.transform(X_test)\n",
        "\n",
        "# Train a Random Forest model\n",
        "random_forest_classifier = RandomForestClassifier(n_estimators=100, random_state=42)\n",
        "random_forest_classifier.fit(X_train_tfidf, y_sentiment_train)\n",
        "\n",
        "# Predict sentiment on the test set\n",
        "y_sentiment_pred_rf = random_forest_classifier.predict(X_test_tfidf)\n",
        "\n",
        "# Evaluate the sentiment analysis model\n",
        "sentiment_accuracy_rf = accuracy_score(y_sentiment_test, y_sentiment_pred_rf)\n",
        "\n",
        "# Calculate sentiment scores using TextBlob for the entire dataset\n",
        "df3['textblob_sentiment'] = df3['Cleaned_Review'].apply(lambda x: TextBlob(x).sentiment.polarity)\n",
        "\n",
        "# Normalize TextBlob sentiment scores to the [0, 1] scale\n",
        "df3['normalized_sentiment'] = (df3['textblob_sentiment'] + 1) / 2\n",
        "\n",
        "# Combine the model's predicted sentiment with TextBlob sentiment scores\n",
        "df3['combined_sentiment_rf'] = (df3['normalized_sentiment'] + (y_sentiment == 'positive').astype(int)) / 2\n",
        "\n",
        "# Calculate the overall rating score on a scale of 5\n",
        "df3['rating_rf'] = 5 * df3['combined_sentiment_rf']\n",
        "\n",
        "# Calculate the Mean Squared Error (MSE) for the ratings\n",
        "rating_mse_rf = mean_squared_error(y_rating_test, df3.loc[y_rating_test.index, 'rating_rf'])\n",
        "\n",
        "# Print results for Random Forest\n",
        "print(f'Random Forest Sentiment Analysis Accuracy: {sentiment_accuracy_rf}')\n",
        "print(f'Random Forest Mean Squared Error for Ratings: {rating_mse_rf}')\n",
        "\n",
        "# Train a Gradient Boosting model\n",
        "gradient_boosting_classifier = GradientBoostingClassifier(n_estimators=100, random_state=42)\n",
        "gradient_boosting_classifier.fit(X_train_tfidf, y_sentiment_train)\n",
        "\n",
        "# Predict sentiment on the test set\n",
        "y_sentiment_pred_gb = gradient_boosting_classifier.predict(X_test_tfidf)\n",
        "\n",
        "# Evaluate the sentiment analysis model\n",
        "sentiment_accuracy_gb = accuracy_score(y_sentiment_test, y_sentiment_pred_gb)\n",
        "\n",
        "# Combine the model's predicted sentiment with TextBlob sentiment scores\n",
        "df3['combined_sentiment_gb'] = (df3['normalized_sentiment'] + (y_sentiment == 'positive').astype(int)) / 2\n",
        "\n",
        "# Calculate the overall rating score on a scale of 5\n",
        "df3['rating_gb'] = 5 * df3['combined_sentiment_gb']\n",
        "\n",
        "# Calculate the Mean Squared Error (MSE) for the ratings\n",
        "rating_mse_gb = mean_squared_error(y_rating_test, df3.loc[y_rating_test.index, 'rating_gb'])\n",
        "\n",
        "# Print results for Gradient Boosting\n",
        "print(f'Gradient Boosting Sentiment Analysis Accuracy: {sentiment_accuracy_gb}')\n",
        "print(f'Gradient Boosting Mean Squared Error for Ratings: {rating_mse_gb}')\n"
      ],
      "metadata": {
        "colab": {
          "base_uri": "https://localhost:8080/"
        },
        "id": "8S7R--qFZNhR",
        "outputId": "30b11b88-6cb8-4391-8bb3-c8e25ce1e6bb"
      },
      "execution_count": null,
      "outputs": [
        {
          "output_type": "stream",
          "name": "stdout",
          "text": [
            "Random Forest Sentiment Analysis Accuracy: 0.8647530385311611\n",
            "Random Forest Mean Squared Error for Ratings: 5.034545381435629\n",
            "Gradient Boosting Sentiment Analysis Accuracy: 0.852081717093354\n",
            "Gradient Boosting Mean Squared Error for Ratings: 5.034545381435629\n"
          ]
        }
      ]
    }
  ]
}